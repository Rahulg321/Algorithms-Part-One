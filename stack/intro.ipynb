{
 "cells": [
  {
   "cell_type": "code",
   "execution_count": 1,
   "metadata": {},
   "outputs": [
    {
     "name": "stdout",
     "output_type": "stream",
     "text": [
      "1312 93123 11312\n",
      "1312 93123\n"
     ]
    }
   ],
   "source": [
    "#implementing stack using my understanding\n",
    "class Stack:\n",
    "    def __init__(self) -> None:\n",
    "        self.stack = []\n",
    "    \n",
    "    def push(self, value):\n",
    "        self.stack.append(value)\n",
    "    \n",
    "    def pop(self):\n",
    "        return self.stack.pop()\n",
    "\n",
    "    def __str__(self) -> str:\n",
    "        values = [str(x) for x in self.stack]\n",
    "        \n",
    "        return \" \".join(values)\n",
    "\n",
    "s1 = Stack()\n",
    "s1.push(1312)\n",
    "s1.push(93123)\n",
    "s1.push(11312)\n",
    "\n",
    "print(s1)\n",
    "\n",
    "s1.pop()\n",
    "\n",
    "print(s1)\n"
   ]
  }
 ],
 "metadata": {
  "kernelspec": {
   "display_name": "base",
   "language": "python",
   "name": "python3"
  },
  "language_info": {
   "codemirror_mode": {
    "name": "ipython",
    "version": 3
   },
   "file_extension": ".py",
   "mimetype": "text/x-python",
   "name": "python",
   "nbconvert_exporter": "python",
   "pygments_lexer": "ipython3",
   "version": "3.9.13"
  },
  "orig_nbformat": 4
 },
 "nbformat": 4,
 "nbformat_minor": 2
}
