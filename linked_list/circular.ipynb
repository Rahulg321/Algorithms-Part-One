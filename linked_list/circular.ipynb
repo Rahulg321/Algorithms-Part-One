{
 "cells": [
  {
   "cell_type": "code",
   "execution_count": null,
   "metadata": {},
   "outputs": [],
   "source": [
    "\"\"\"_summary_\n",
    "    \n",
    "    Creating a circular singly and Doubly Linked List\n",
    "    and implementing all the basic function acc to my understanding\n",
    "\"\"\""
   ]
  },
  {
   "cell_type": "code",
   "execution_count": 7,
   "metadata": {},
   "outputs": [
    {
     "name": "stdout",
     "output_type": "stream",
     "text": [
      "traversing\n",
      "1\n",
      "2\n",
      "3\n"
     ]
    }
   ],
   "source": [
    "class Node:\n",
    "    def __init__(self, value, next = None):\n",
    "        self.value = value \n",
    "        self.next = next \n",
    "    \n",
    "    \n",
    "class LinkedList:\n",
    "    def __init__(self):\n",
    "        self.head = None\n",
    "        self.tail = None\n",
    "    \n",
    "    def traversal(self):\n",
    "        temp = self.head\n",
    "        \n",
    "        print(temp.value)\n",
    "        while temp.next != self.head:\n",
    "            temp = temp.next\n",
    "            print(temp.value)\n",
    "            \n",
    "\n",
    "first = Node(1)\n",
    "second = Node(2)\n",
    "third = Node(3)\n",
    "first.next = second\n",
    "second.next = third\n",
    "third.next = first\n",
    "circular_list = LinkedList()\n",
    "\n",
    "circular_list.head = first\n",
    "circular_list.tail = third\n",
    "\n",
    "print('traversing')\n",
    "circular_list.traversal()"
   ]
  }
 ],
 "metadata": {
  "kernelspec": {
   "display_name": "Python 3",
   "language": "python",
   "name": "python3"
  },
  "language_info": {
   "codemirror_mode": {
    "name": "ipython",
    "version": 3
   },
   "file_extension": ".py",
   "mimetype": "text/x-python",
   "name": "python",
   "nbconvert_exporter": "python",
   "pygments_lexer": "ipython3",
   "version": "3.11.2"
  },
  "orig_nbformat": 4
 },
 "nbformat": 4,
 "nbformat_minor": 2
}
