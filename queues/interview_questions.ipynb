{
 "cells": [
  {
   "cell_type": "code",
   "execution_count": 1,
   "metadata": {},
   "outputs": [
    {
     "name": "stdout",
     "output_type": "stream",
     "text": [
      "stack and queue interview questions\n"
     ]
    }
   ],
   "source": [
    "print('stack and queue interview questions')"
   ]
  },
  {
   "cell_type": "code",
   "execution_count": 4,
   "metadata": {},
   "outputs": [
    {
     "name": "stdout",
     "output_type": "stream",
     "text": [
      "000000000\n"
     ]
    }
   ],
   "source": [
    "#describe how you would use a single python list to implement three stacks\n",
    "class MultiStack:\n",
    "    def __init__(self, stacksize) -> None:\n",
    "        self.numberOfStacks = 3\n",
    "        self.customList = [0] * (self.numberOfStacks * stacksize)\n",
    "        self.sizesOfStacks = [0] * self.numberOfStacks\n",
    "        self.stacksize = stacksize\n",
    "    \n",
    "    def push(self, stackNum, value):\n",
    "        if self.isFull(stackNum):\n",
    "            return f'Stack {stackNum} is full, element cant be inserted'\n",
    "        else:\n",
    "            self.sizesOfStacks[stackNum] += 1\n",
    "            self.customList[self.indexOfTop(stackNum)] = value\n",
    "            \n",
    "    def pop(self, stackNum):\n",
    "        if self.isEmpty(stackNum):\n",
    "            return f'Stack {stackNum} is empty, no more elements can be removed'\n",
    "        else:\n",
    "            self.sizesOfStacks[stackNum] -= 1\n",
    "            element = self.customList[self.indexOfTop(stackNum)]\n",
    "            self.customList[self.indexOfTop(stackNum)] = 0\n",
    "            return element\n",
    "    \n",
    "            \n",
    "\n",
    "    def indexOfTop(self, stackNum):\n",
    "        \"\"\"_summary_\n",
    "        this func returns the index of the topmost element of the stack\n",
    "        Args:\n",
    "            stackNum (int): the stack num of which we want to find the top index of\n",
    "        \"\"\"\n",
    "        # offset -> the base index of that specific stack Num\n",
    "        offset = self.stacksize * stackNum\n",
    "        return offset + (self.sizesOfStacks[stackNum] - 1)\n",
    "        \n",
    "    \n",
    "    \n",
    "    def isEmpty(self, stackNum):\n",
    "        if self.sizesOfStacks[stackNum] == 0:\n",
    "            return True\n",
    "        return False\n",
    "    \n",
    "    def isFull(self, stackNum):\n",
    "        if self.sizesOfStacks[stackNum] == self.stacksize:\n",
    "            return True\n",
    "        return False\n",
    "\n",
    "    \n",
    "    def __str__(self) -> str:\n",
    "        values = [str(x) for x in self.customList]\n",
    "        return \"\".join(values)\n",
    "    \n",
    "\n",
    "my_stack = MultiStack(3)\n",
    "print(my_stack)\n"
   ]
  }
 ],
 "metadata": {
  "kernelspec": {
   "display_name": "Python 3",
   "language": "python",
   "name": "python3"
  },
  "language_info": {
   "codemirror_mode": {
    "name": "ipython",
    "version": 3
   },
   "file_extension": ".py",
   "mimetype": "text/x-python",
   "name": "python",
   "nbconvert_exporter": "python",
   "pygments_lexer": "ipython3",
   "version": "3.11.2"
  },
  "orig_nbformat": 4,
  "vscode": {
   "interpreter": {
    "hash": "7e5d8a5ccdc9cc2fcb660ade00fac7fbc57fba405d09d77021876d202efcc6d9"
   }
  }
 },
 "nbformat": 4,
 "nbformat_minor": 2
}
